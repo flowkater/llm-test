{
 "cells": [
  {
   "cell_type": "code",
   "execution_count": 1,
   "metadata": {},
   "outputs": [],
   "source": [
    "import os\n",
    "# from langchain.llms.openai import OpenAI\n",
    "from langchain.chat_models import AzureChatOpenAI\n",
    "from dotenv import load_dotenv\n",
    "load_dotenv()\n",
    "\n",
    "openai_api_key = os.getenv(\"OPENAI_API_KEY\")\n",
    "\n",
    "chat = AzureChatOpenAI(\n",
    "    openai_api_key=openai_api_key,\n",
    "    openai_api_base=\"https://mildang-data-openai.openai.azure.com/\",\n",
    "    openai_api_version=\"2023-05-15\",\n",
    "    openai_api_type=\"azure\",\n",
    "    deployment_name=\"data-test\",\n",
    ")\n",
    "\n",
    "b = chat.predict(\"유럽 여행지 추천해줘\")\n",
    "\n",
    "b\n"
   ]
  },
  {
   "cell_type": "code",
   "execution_count": null,
   "metadata": {},
   "outputs": [],
   "source": []
  }
 ],
 "metadata": {
  "kernelspec": {
   "display_name": "env",
   "language": "python",
   "name": "python3"
  },
  "language_info": {
   "codemirror_mode": {
    "name": "ipython",
    "version": 3
   },
   "file_extension": ".py",
   "mimetype": "text/x-python",
   "name": "python",
   "nbconvert_exporter": "python",
   "pygments_lexer": "ipython3",
   "version": "3.11.6"
  }
 },
 "nbformat": 4,
 "nbformat_minor": 2
}
