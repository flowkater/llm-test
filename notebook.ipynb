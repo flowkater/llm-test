{
 "cells": [
  {
   "cell_type": "code",
   "execution_count": 1,
   "metadata": {},
   "outputs": [
    {
     "data": {
      "text/plain": [
       "'1. 파리, 프랑스 - 에펠탑, 루브르 박물관, 샹젤리제 거리 등의 유명한 관광지가 있으며, 맛있는 음식과 멋진 건축물도 많습니다.\\n2. 바르셀로나, 스페인 - 고딕 지구, 구애랑 공원, 사그라다 파밀리아 대성당 등의 관광지가 있으며, 해변도 인기 있습니다.\\n3. 로마, 이탈리아 - 바티칸 시국, 콜로세움, 파나테오 만, 스파니시 스텝스 등의 유명한 관광지가 있으며, 이탈리아 음식도 맛있습니다.\\n4. 암스테르담, 네덜란드 - 암스테르담 운하, 반 극장, 바네시아 박물관, 앤 페허 박물관 등의 관광지가 있으며, 독특한 분위기가 인기 있습니다.\\n5. 크로아티아 - 드부로브니크, 스플리트, 훠바르, 자그레브 등의 도시나 푸른 바다와 아름다운 섬들이 인기 있습니다.'"
      ]
     },
     "execution_count": 1,
     "metadata": {},
     "output_type": "execute_result"
    }
   ],
   "source": [
    "import os\n",
    "# from langchain.llms.openai import OpenAI\n",
    "from langchain.chat_models import AzureChatOpenAI\n",
    "from dotenv import load_dotenv\n",
    "load_dotenv()\n",
    "\n",
    "openai_api_key = os.getenv(\"OPENAI_API_KEY\")\n",
    "\n",
    "chat = AzureChatOpenAI(\n",
    "    openai_api_key=openai_api_key,\n",
    "    openai_api_base=\"https://mildang-data-openai.openai.azure.com/\",\n",
    "    openai_api_version=\"2023-05-15\",\n",
    "    openai_api_type=\"azure\",\n",
    "    deployment_name=\"data-test\",\n",
    ")\n",
    "\n",
    "b = chat.predict(\"유럽 여행지 추천해줘\")\n",
    "\n",
    "b\n"
   ]
  },
  {
   "cell_type": "code",
   "execution_count": null,
   "metadata": {},
   "outputs": [],
   "source": []
  }
 ],
 "metadata": {
  "kernelspec": {
   "display_name": "env",
   "language": "python",
   "name": "python3"
  },
  "language_info": {
   "codemirror_mode": {
    "name": "ipython",
    "version": 3
   },
   "file_extension": ".py",
   "mimetype": "text/x-python",
   "name": "python",
   "nbconvert_exporter": "python",
   "pygments_lexer": "ipython3",
   "version": "3.11.6"
  }
 },
 "nbformat": 4,
 "nbformat_minor": 2
}
